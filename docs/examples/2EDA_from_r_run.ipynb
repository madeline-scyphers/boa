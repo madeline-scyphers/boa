{
 "cells": [
  {
   "cell_type": "markdown",
   "id": "8f0e472a-a63a-4b91-836f-f0ac12f6bfce",
   "metadata": {},
   "source": [
    "# BOA Provided Visualizations"
   ]
  },
  {
   "cell_type": "markdown",
   "id": "038f4c1b-3a42-4686-8433-2f803d03cb85",
   "metadata": {
    "tags": []
   },
   "source": [
    "## Our scheduler.json\n",
    "\n",
    "From our run in R in [Running an R Script with BOA](1run_r_streamlined.ipynb), we saved our scheduler.json file. In the same directory BOA also saves an optimization.csv file with the parameters and objective of every trial, as well as a log file.\n",
    "\n",
    "BOA gives us some light EDA tools automatically. You can do them automatically from the command line, or if you would like to dive into with more control, see our Python loading and visualization tutorials for more details.\n",
    "\n",
    "From the command line, we can issue\n",
    "\n",
    "```python\n",
    "python -m boa.plot --scheduler-path path/to/scheduler.json\n",
    "\n",
    "or\n",
    "\n",
    "python -m boa.plot -sp path/to/scheduler.json\n",
    "```\n",
    "\n",
    "```{attention} \n",
    "Pictures of the rendered Visualization app will be added in the Future\n",
    "```"
   ]
  },
  {
   "cell_type": "code",
   "execution_count": null,
   "id": "fa16f066-856a-4d69-9237-fed71c325724",
   "metadata": {},
   "outputs": [],
   "source": []
  }
 ],
 "metadata": {
  "kernelspec": {
   "display_name": "Python [conda env:boa-dev]",
   "language": "python",
   "name": "conda-env-boa-dev-py"
  },
  "language_info": {
   "codemirror_mode": {
    "name": "ipython",
    "version": 3
   },
   "file_extension": ".py",
   "mimetype": "text/x-python",
   "name": "python",
   "nbconvert_exporter": "python",
   "pygments_lexer": "ipython3",
   "version": "3.10.12"
  }
 },
 "nbformat": 4,
 "nbformat_minor": 5
}
